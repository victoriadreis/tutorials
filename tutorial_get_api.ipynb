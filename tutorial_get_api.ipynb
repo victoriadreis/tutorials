{
 "cells": [
  {
   "cell_type": "code",
   "execution_count": 1,
   "metadata": {},
   "outputs": [],
   "source": [
    "# Bibliotecas\n",
    "import requests\n",
    "import pandas as pd\n",
    "import json"
   ]
  },
  {
   "cell_type": "code",
   "execution_count": 2,
   "metadata": {},
   "outputs": [],
   "source": [
    "url = \"https://servicodados.ibge.gov.br/api/v3/agregados\"\n",
    "\n",
    "payload={}\n",
    "headers = {}"
   ]
  },
  {
   "cell_type": "code",
   "execution_count": 11,
   "metadata": {},
   "outputs": [
    {
     "data": {
      "text/html": [
       "<div>\n",
       "<style scoped>\n",
       "    .dataframe tbody tr th:only-of-type {\n",
       "        vertical-align: middle;\n",
       "    }\n",
       "\n",
       "    .dataframe tbody tr th {\n",
       "        vertical-align: top;\n",
       "    }\n",
       "\n",
       "    .dataframe thead th {\n",
       "        text-align: right;\n",
       "    }\n",
       "</style>\n",
       "<table border=\"1\" class=\"dataframe\">\n",
       "  <thead>\n",
       "    <tr style=\"text-align: right;\">\n",
       "      <th></th>\n",
       "      <th>id</th>\n",
       "      <th>nome</th>\n",
       "      <th>agregados</th>\n",
       "    </tr>\n",
       "  </thead>\n",
       "  <tbody>\n",
       "    <tr>\n",
       "      <th>0</th>\n",
       "      <td>CL</td>\n",
       "      <td>Cadastro Central de Empresas</td>\n",
       "      <td>[{'id': '1732', 'nome': 'Dados gerais das empr...</td>\n",
       "    </tr>\n",
       "    <tr>\n",
       "      <th>1</th>\n",
       "      <td>CA</td>\n",
       "      <td>Censo Agropecuário</td>\n",
       "      <td>[{'id': '1278', 'nome': 'Agroindústria rural n...</td>\n",
       "    </tr>\n",
       "    <tr>\n",
       "      <th>2</th>\n",
       "      <td>ME</td>\n",
       "      <td>Censo Comum do Mercosul, Bolívia e Chile</td>\n",
       "      <td>[{'id': '2059', 'nome': 'Domicílios e Populaçã...</td>\n",
       "    </tr>\n",
       "    <tr>\n",
       "      <th>3</th>\n",
       "      <td>CD</td>\n",
       "      <td>Censo Demográfico</td>\n",
       "      <td>[{'id': '1301', 'nome': 'Área e Densidade demo...</td>\n",
       "    </tr>\n",
       "    <tr>\n",
       "      <th>4</th>\n",
       "      <td>CM</td>\n",
       "      <td>Contagem da População</td>\n",
       "      <td>[{'id': '479', 'nome': 'Chefes de domicílios p...</td>\n",
       "    </tr>\n",
       "    <tr>\n",
       "      <th>...</th>\n",
       "      <td>...</td>\n",
       "      <td>...</td>\n",
       "      <td>...</td>\n",
       "    </tr>\n",
       "    <tr>\n",
       "      <th>58</th>\n",
       "      <td>VS</td>\n",
       "      <td>Produção da Extração Vegetal e da Silvicultura</td>\n",
       "      <td>[{'id': '5930', 'nome': 'Área total existente ...</td>\n",
       "    </tr>\n",
       "    <tr>\n",
       "      <th>59</th>\n",
       "      <td>PO</td>\n",
       "      <td>Produção de Ovos de Galinha</td>\n",
       "      <td>[{'id': '915', 'nome': 'Número de informantes,...</td>\n",
       "    </tr>\n",
       "    <tr>\n",
       "      <th>60</th>\n",
       "      <td>IO</td>\n",
       "      <td>Produto Interno Bruto dos Municípios</td>\n",
       "      <td>[{'id': '599', 'nome': 'Índice de Gini do prod...</td>\n",
       "    </tr>\n",
       "    <tr>\n",
       "      <th>61</th>\n",
       "      <td>XE</td>\n",
       "      <td>Projeção da População</td>\n",
       "      <td>[{'id': '7362', 'nome': 'Esperança de vida ao ...</td>\n",
       "    </tr>\n",
       "    <tr>\n",
       "      <th>62</th>\n",
       "      <td>SI</td>\n",
       "      <td>Sistema Nacional de Pesquisa de Custos e Índic...</td>\n",
       "      <td>[{'id': '33', 'nome': 'Custo de projeto m², po...</td>\n",
       "    </tr>\n",
       "  </tbody>\n",
       "</table>\n",
       "<p>63 rows × 3 columns</p>\n",
       "</div>"
      ],
      "text/plain": [
       "    id                                               nome  \\\n",
       "0   CL                       Cadastro Central de Empresas   \n",
       "1   CA                                 Censo Agropecuário   \n",
       "2   ME           Censo Comum do Mercosul, Bolívia e Chile   \n",
       "3   CD                                  Censo Demográfico   \n",
       "4   CM                             Contagem da População    \n",
       "..  ..                                                ...   \n",
       "58  VS     Produção da Extração Vegetal e da Silvicultura   \n",
       "59  PO                        Produção de Ovos de Galinha   \n",
       "60  IO               Produto Interno Bruto dos Municípios   \n",
       "61  XE                              Projeção da População   \n",
       "62  SI  Sistema Nacional de Pesquisa de Custos e Índic...   \n",
       "\n",
       "                                            agregados  \n",
       "0   [{'id': '1732', 'nome': 'Dados gerais das empr...  \n",
       "1   [{'id': '1278', 'nome': 'Agroindústria rural n...  \n",
       "2   [{'id': '2059', 'nome': 'Domicílios e Populaçã...  \n",
       "3   [{'id': '1301', 'nome': 'Área e Densidade demo...  \n",
       "4   [{'id': '479', 'nome': 'Chefes de domicílios p...  \n",
       "..                                                ...  \n",
       "58  [{'id': '5930', 'nome': 'Área total existente ...  \n",
       "59  [{'id': '915', 'nome': 'Número de informantes,...  \n",
       "60  [{'id': '599', 'nome': 'Índice de Gini do prod...  \n",
       "61  [{'id': '7362', 'nome': 'Esperança de vida ao ...  \n",
       "62  [{'id': '33', 'nome': 'Custo de projeto m², po...  \n",
       "\n",
       "[63 rows x 3 columns]"
      ]
     },
     "execution_count": 11,
     "metadata": {},
     "output_type": "execute_result"
    }
   ],
   "source": [
    "response = requests.request(\"GET\", url, headers=headers, data=payload)\n",
    "\n",
    "#print(response.text)\n",
    "\n",
    "data = json.loads(response.text)\n",
    "df = pd.DataFrame(data)\n",
    "df\n"
   ]
  },
  {
   "cell_type": "code",
   "execution_count": 12,
   "metadata": {},
   "outputs": [
    {
     "name": "stdout",
     "output_type": "stream",
     "text": [
      "qualquer coisa\n"
     ]
    }
   ],
   "source": [
    "print(\"qualquer coisa\")"
   ]
  }
 ],
 "metadata": {
  "interpreter": {
   "hash": "04d6be096b7f4b8d46f3624579aa4c3fdf3cad2738cef525faf2e0d4eedc0c33"
  },
  "kernelspec": {
   "display_name": "Python 3.7.6 64-bit ('base': conda)",
   "language": "python",
   "name": "python3"
  },
  "language_info": {
   "codemirror_mode": {
    "name": "ipython",
    "version": 3
   },
   "file_extension": ".py",
   "mimetype": "text/x-python",
   "name": "python",
   "nbconvert_exporter": "python",
   "pygments_lexer": "ipython3",
   "version": "3.7.6"
  },
  "orig_nbformat": 4
 },
 "nbformat": 4,
 "nbformat_minor": 2
}
